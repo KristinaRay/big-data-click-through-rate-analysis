{
 "cells": [
  {
   "cell_type": "code",
   "execution_count": 1,
   "metadata": {},
   "outputs": [],
   "source": [
    "import io\n",
    "import sys\n",
    "from pyspark.sql import SparkSession\n",
    "import pandas as pd\n",
    "\n",
    "# Path to save the model\n",
    "MODEL_PATH = 'spark_ml_model'"
   ]
  },
  {
   "cell_type": "code",
   "execution_count": 32,
   "metadata": {},
   "outputs": [],
   "source": [
    "from pyspark.ml import Pipeline\n",
    "from pyspark.ml.feature import  VectorAssembler\n",
    "from pyspark.ml.tuning import ParamGridBuilder, TrainValidationSplit\n",
    "\n",
    "from pyspark.ml.regression import DecisionTreeRegressor\n",
    "from pyspark.ml.evaluation import RegressionEvaluator\n",
    "from pyspark.ml.regression import RandomForestRegressor\n",
    "from pyspark.ml.regression import GBTRegressor"
   ]
  },
  {
   "cell_type": "code",
   "execution_count": 3,
   "metadata": {},
   "outputs": [],
   "source": [
    "spark = SparkSession.builder.appName(\"PySparkML\").getOrCreate()"
   ]
  },
  {
   "cell_type": "code",
   "execution_count": 4,
   "metadata": {},
   "outputs": [
    {
     "data": {
      "text/html": [
       "\n",
       "            <div>\n",
       "                <p><b>SparkSession - in-memory</b></p>\n",
       "                \n",
       "        <div>\n",
       "            <p><b>SparkContext</b></p>\n",
       "\n",
       "            <p><a href=\"http://ed838144a396:4041\">Spark UI</a></p>\n",
       "\n",
       "            <dl>\n",
       "              <dt>Version</dt>\n",
       "                <dd><code>v3.0.1</code></dd>\n",
       "              <dt>Master</dt>\n",
       "                <dd><code>local[*]</code></dd>\n",
       "              <dt>AppName</dt>\n",
       "                <dd><code>PySparkML</code></dd>\n",
       "            </dl>\n",
       "        </div>\n",
       "        \n",
       "            </div>\n",
       "        "
      ],
      "text/plain": [
       "<pyspark.sql.session.SparkSession at 0x7ff67de7e820>"
      ]
     },
     "execution_count": 4,
     "metadata": {},
     "output_type": "execute_result"
    }
   ],
   "source": [
    "spark"
   ]
  },
  {
   "cell_type": "code",
   "execution_count": 5,
   "metadata": {},
   "outputs": [],
   "source": [
    "# Load training data\n",
    "train = spark.read.parquet('train.parquet')"
   ]
  },
  {
   "cell_type": "code",
   "execution_count": 6,
   "metadata": {},
   "outputs": [
    {
     "name": "stdout",
     "output_type": "stream",
     "text": [
      "+-----+---------------------+---------+------+------+----------------+---------+-----------------+\n",
      "|ad_id|target_audience_count|has_video|is_cpm|is_cpc|         ad_cost|day_count|              ctr|\n",
      "+-----+---------------------+---------+------+------+----------------+---------+-----------------+\n",
      "|    1|     10707.2440058622|        1|     1|     0|201.829292651124|       15|0.431740082807281|\n",
      "|    5|     10643.3872649482|        1|     1|     0|192.577221699704|       15|0.809264519216201|\n",
      "|    6|     11418.7085911347|        1|     1|     0|204.104562956739|       11|0.909738306804039|\n",
      "|    7|     10109.3278687796|        1|     1|     0|194.255798599684|       12|0.941221039774456|\n",
      "|    8|     10665.1119991977|        1|     1|     0|202.658042557742|       14|0.986790019690954|\n",
      "+-----+---------------------+---------+------+------+----------------+---------+-----------------+\n",
      "only showing top 5 rows\n",
      "\n"
     ]
    }
   ],
   "source": [
    "train.show(5)"
   ]
  },
  {
   "cell_type": "code",
   "execution_count": 7,
   "metadata": {},
   "outputs": [
    {
     "data": {
      "text/plain": [
       "0"
      ]
     },
     "execution_count": 7,
     "metadata": {},
     "output_type": "execute_result"
    }
   ],
   "source": [
    "train.filter(\"ctr is null\").count()"
   ]
  },
  {
   "cell_type": "code",
   "execution_count": 8,
   "metadata": {},
   "outputs": [
    {
     "name": "stdout",
     "output_type": "stream",
     "text": [
      "root\n",
      " |-- ad_id: integer (nullable = true)\n",
      " |-- target_audience_count: double (nullable = true)\n",
      " |-- has_video: integer (nullable = true)\n",
      " |-- is_cpm: integer (nullable = true)\n",
      " |-- is_cpc: integer (nullable = true)\n",
      " |-- ad_cost: double (nullable = true)\n",
      " |-- day_count: integer (nullable = true)\n",
      " |-- ctr: double (nullable = true)\n",
      "\n"
     ]
    }
   ],
   "source": [
    "train.printSchema()"
   ]
  },
  {
   "cell_type": "code",
   "execution_count": 9,
   "metadata": {},
   "outputs": [
    {
     "data": {
      "text/html": [
       "<div>\n",
       "<style scoped>\n",
       "    .dataframe tbody tr th:only-of-type {\n",
       "        vertical-align: middle;\n",
       "    }\n",
       "\n",
       "    .dataframe tbody tr th {\n",
       "        vertical-align: top;\n",
       "    }\n",
       "\n",
       "    .dataframe thead th {\n",
       "        text-align: right;\n",
       "    }\n",
       "</style>\n",
       "<table border=\"1\" class=\"dataframe\">\n",
       "  <thead>\n",
       "    <tr style=\"text-align: right;\">\n",
       "      <th></th>\n",
       "      <th>0</th>\n",
       "      <th>1</th>\n",
       "      <th>2</th>\n",
       "      <th>3</th>\n",
       "      <th>4</th>\n",
       "    </tr>\n",
       "  </thead>\n",
       "  <tbody>\n",
       "    <tr>\n",
       "      <th>summary</th>\n",
       "      <td>count</td>\n",
       "      <td>mean</td>\n",
       "      <td>stddev</td>\n",
       "      <td>min</td>\n",
       "      <td>max</td>\n",
       "    </tr>\n",
       "    <tr>\n",
       "      <th>ad_id</th>\n",
       "      <td>160151</td>\n",
       "      <td>100032.56564117614</td>\n",
       "      <td>57731.67777527107</td>\n",
       "      <td>1</td>\n",
       "      <td>200000</td>\n",
       "    </tr>\n",
       "    <tr>\n",
       "      <th>target_audience_count</th>\n",
       "      <td>160151</td>\n",
       "      <td>5996.667183284404</td>\n",
       "      <td>1116.256587870187</td>\n",
       "      <td>1170.47237880852</td>\n",
       "      <td>11418.7085911347</td>\n",
       "    </tr>\n",
       "    <tr>\n",
       "      <th>has_video</th>\n",
       "      <td>160151</td>\n",
       "      <td>0.5001404924102878</td>\n",
       "      <td>0.5000015412959168</td>\n",
       "      <td>0</td>\n",
       "      <td>1</td>\n",
       "    </tr>\n",
       "    <tr>\n",
       "      <th>is_cpm</th>\n",
       "      <td>160151</td>\n",
       "      <td>0.49996565741081855</td>\n",
       "      <td>0.5000015598546711</td>\n",
       "      <td>0</td>\n",
       "      <td>1</td>\n",
       "    </tr>\n",
       "    <tr>\n",
       "      <th>is_cpc</th>\n",
       "      <td>160151</td>\n",
       "      <td>0.5000343425891814</td>\n",
       "      <td>0.500001559854671</td>\n",
       "      <td>0</td>\n",
       "      <td>1</td>\n",
       "    </tr>\n",
       "    <tr>\n",
       "      <th>ad_cost</th>\n",
       "      <td>160151</td>\n",
       "      <td>109.99234379081676</td>\n",
       "      <td>90.02253879189986</td>\n",
       "      <td>18.7135343648365</td>\n",
       "      <td>213.027986239779</td>\n",
       "    </tr>\n",
       "    <tr>\n",
       "      <th>day_count</th>\n",
       "      <td>160151</td>\n",
       "      <td>15.002179193386242</td>\n",
       "      <td>2.0195705602836544</td>\n",
       "      <td>6</td>\n",
       "      <td>24</td>\n",
       "    </tr>\n",
       "    <tr>\n",
       "      <th>ctr</th>\n",
       "      <td>160151</td>\n",
       "      <td>4.9978372893810805</td>\n",
       "      <td>0.9974185644196207</td>\n",
       "      <td>0.431740082807281</td>\n",
       "      <td>9.69490945375879</td>\n",
       "    </tr>\n",
       "  </tbody>\n",
       "</table>\n",
       "</div>"
      ],
      "text/plain": [
       "                            0                    1                   2  \\\n",
       "summary                 count                 mean              stddev   \n",
       "ad_id                  160151   100032.56564117614   57731.67777527107   \n",
       "target_audience_count  160151    5996.667183284404   1116.256587870187   \n",
       "has_video              160151   0.5001404924102878  0.5000015412959168   \n",
       "is_cpm                 160151  0.49996565741081855  0.5000015598546711   \n",
       "is_cpc                 160151   0.5000343425891814   0.500001559854671   \n",
       "ad_cost                160151   109.99234379081676   90.02253879189986   \n",
       "day_count              160151   15.002179193386242  2.0195705602836544   \n",
       "ctr                    160151   4.9978372893810805  0.9974185644196207   \n",
       "\n",
       "                                       3                 4  \n",
       "summary                              min               max  \n",
       "ad_id                                  1            200000  \n",
       "target_audience_count   1170.47237880852  11418.7085911347  \n",
       "has_video                              0                 1  \n",
       "is_cpm                                 0                 1  \n",
       "is_cpc                                 0                 1  \n",
       "ad_cost                 18.7135343648365  213.027986239779  \n",
       "day_count                              6                24  \n",
       "ctr                    0.431740082807281  9.69490945375879  "
      ]
     },
     "execution_count": 9,
     "metadata": {},
     "output_type": "execute_result"
    }
   ],
   "source": [
    "train.describe().toPandas().transpose()"
   ]
  },
  {
   "cell_type": "code",
   "execution_count": 10,
   "metadata": {},
   "outputs": [],
   "source": [
    "# Load testing data\n",
    "test = spark.read.parquet('test.parquet')"
   ]
  },
  {
   "cell_type": "code",
   "execution_count": 11,
   "metadata": {},
   "outputs": [
    {
     "name": "stdout",
     "output_type": "stream",
     "text": [
      "+-----+---------------------+---------+------+------+----------------+---------+-----------------+\n",
      "|ad_id|target_audience_count|has_video|is_cpm|is_cpc|         ad_cost|day_count|              ctr|\n",
      "+-----+---------------------+---------+------+------+----------------+---------+-----------------+\n",
      "|    2|     11012.2068140534|        1|     1|     0|196.691891825393|       17| 0.50005065193925|\n",
      "|    3|     9923.69112524699|        1|     1|     0|202.617038691842|       15|0.637132195277704|\n",
      "|    4|     10202.3140990505|        1|     1|     0|203.496891469936|       15|0.783706394973096|\n",
      "|   10|     10239.9431887051|        1|     1|     0|195.804239443196|       15| 1.01044552869544|\n",
      "|   13|     8373.52511906263|        1|     1|     0|202.221614839989|       13| 1.05570252090352|\n",
      "+-----+---------------------+---------+------+------+----------------+---------+-----------------+\n",
      "only showing top 5 rows\n",
      "\n"
     ]
    }
   ],
   "source": [
    "test.show(5)"
   ]
  },
  {
   "cell_type": "code",
   "execution_count": 129,
   "metadata": {},
   "outputs": [
    {
     "data": {
      "text/plain": [
       "['ad_id',\n",
       " 'target_audience_count',\n",
       " 'has_video',\n",
       " 'is_cpm',\n",
       " 'is_cpc',\n",
       " 'ad_cost',\n",
       " 'day_count',\n",
       " 'ctr']"
      ]
     },
     "execution_count": 129,
     "metadata": {},
     "output_type": "execute_result"
    }
   ],
   "source": [
    "train.columns"
   ]
  },
  {
   "cell_type": "code",
   "execution_count": 12,
   "metadata": {},
   "outputs": [],
   "source": [
    "feature = VectorAssembler(inputCols=['ad_id', 'target_audience_count', 'has_video', 'is_cpm', 'is_cpc', 'ad_cost', 'day_count'], \\\n",
    "                          outputCol=\"features\")"
   ]
  },
  {
   "cell_type": "markdown",
   "metadata": {},
   "source": [
    "# Decision tree regression"
   ]
  },
  {
   "cell_type": "code",
   "execution_count": 13,
   "metadata": {},
   "outputs": [],
   "source": [
    "# Train a DecisionTree model.\n",
    "dt = DecisionTreeRegressor(labelCol=\"ctr\", featuresCol=\"features\")\n",
    "\n",
    "\n",
    "# Chain indexer and tree in a Pipeline\n",
    "pipeline = Pipeline(stages=[feature, dt])\n",
    "\n",
    "# Train model.  This also runs the indexer.\n",
    "model_dt = pipeline.fit(train)\n",
    "\n",
    "# Make predictions.\n",
    "predictions = model_dt.transform(test)\n",
    "\n",
    "\n",
    "# Select (prediction, true label) and compute test error\n",
    "evaluator = RegressionEvaluator(\n",
    "    labelCol=\"ctr\", predictionCol=\"prediction\")"
   ]
  },
  {
   "cell_type": "code",
   "execution_count": 16,
   "metadata": {},
   "outputs": [
    {
     "name": "stdout",
     "output_type": "stream",
     "text": [
      "+--------------------+-----------------+------------------+\n",
      "|            features|              ctr|        prediction|\n",
      "+--------------------+-----------------+------------------+\n",
      "|[2.0,11012.206814...| 0.50005065193925|1.9373299139305638|\n",
      "|[3.0,9923.6911252...|0.637132195277704|1.9373299139305638|\n",
      "|[4.0,10202.314099...|0.783706394973096|1.9373299139305638|\n",
      "|[10.0,10239.94318...| 1.01044552869544|1.9373299139305638|\n",
      "|[13.0,8373.525119...| 1.05570252090352|  2.67739587858396|\n",
      "+--------------------+-----------------+------------------+\n",
      "only showing top 5 rows\n",
      "\n"
     ]
    }
   ],
   "source": [
    "# Select example rows to display.\n",
    "\n",
    "model_dt.transform(test)\\\n",
    "    .select(\"features\", \"ctr\", \"prediction\")\\\n",
    "   .show(5)"
   ]
  },
  {
   "cell_type": "code",
   "execution_count": 21,
   "metadata": {},
   "outputs": [
    {
     "data": {
      "text/plain": [
       "DecisionTreeRegressionModel: uid=DecisionTreeRegressor_fd2293b649aa, depth=5, numNodes=63, numFeatures=7"
      ]
     },
     "execution_count": 21,
     "metadata": {},
     "output_type": "execute_result"
    }
   ],
   "source": [
    "model_dt.stages[-1]"
   ]
  },
  {
   "cell_type": "code",
   "execution_count": 22,
   "metadata": {},
   "outputs": [
    {
     "name": "stdout",
     "output_type": "stream",
     "text": [
      "RMSE:  0.08669978079922172\n",
      "R2: 0.9924213850962317\n"
     ]
    }
   ],
   "source": [
    "rmse_dt = evaluator.evaluate(predictions, {evaluator.metricName: \"rmse\"})\n",
    "r2_dt = evaluator.evaluate(predictions, {evaluator.metricName: \"r2\"})\n",
    "print(\"RMSE: \", rmse_dt)\n",
    "print(\"R2:\", r2_dt)"
   ]
  },
  {
   "cell_type": "markdown",
   "metadata": {},
   "source": [
    "# Random forest regression"
   ]
  },
  {
   "cell_type": "code",
   "execution_count": 24,
   "metadata": {},
   "outputs": [
    {
     "name": "stdout",
     "output_type": "stream",
     "text": [
      "RMSE:  0.13390959534254426\n",
      "R2: 0.9819208821401785\n",
      "RandomForestRegressionModel: uid=RandomForestRegressor_110e5caebf3e, numTrees=20, numFeatures=7\n"
     ]
    }
   ],
   "source": [
    "# Train a RandomForest model.\n",
    "rf = RandomForestRegressor(labelCol=\"ctr\", featuresCol=\"features\")\n",
    "\n",
    "# Chain indexer and tree in a Pipeline\n",
    "pipeline = Pipeline(stages=[feature, rf])\n",
    "\n",
    "# Train model.  This also runs the indexer.\n",
    "model_rf = pipeline.fit(train)\n",
    "\n",
    "# Make predictions.\n",
    "predictions = model_rf.transform(test)\n",
    "\n",
    "\n",
    "# Select (prediction, true label) and compute test error\n",
    "evaluator = RegressionEvaluator(\n",
    "    labelCol=\"ctr\", predictionCol=\"prediction\")\n",
    "\n",
    "rmse_rf = evaluator.evaluate(predictions, {evaluator.metricName: \"rmse\"})\n",
    "r2_rf = evaluator.evaluate(predictions, {evaluator.metricName: \"r2\"})\n",
    "print(\"RMSE: \", rmse_rf)\n",
    "print(\"R2:\", r2_rf)\n",
    "\n",
    "print(model_rf.stages[-1])  # summary only"
   ]
  },
  {
   "cell_type": "code",
   "execution_count": 25,
   "metadata": {},
   "outputs": [
    {
     "name": "stdout",
     "output_type": "stream",
     "text": [
      "+--------------------+-----------------+------------------+\n",
      "|            features|              ctr|        prediction|\n",
      "+--------------------+-----------------+------------------+\n",
      "|[2.0,11012.206814...| 0.50005065193925| 2.730112009216512|\n",
      "|[3.0,9923.6911252...|0.637132195277704|2.7433466438046983|\n",
      "|[4.0,10202.314099...|0.783706394973096|  2.76309530327759|\n",
      "|[10.0,10239.94318...| 1.01044552869544| 2.730112009216512|\n",
      "|[13.0,8373.525119...| 1.05570252090352|2.7433466438046983|\n",
      "+--------------------+-----------------+------------------+\n",
      "only showing top 5 rows\n",
      "\n"
     ]
    }
   ],
   "source": [
    "# Select example rows to display.\n",
    "\n",
    "model_rf.transform(test)\\\n",
    "    .select(\"features\", \"ctr\", \"prediction\")\\\n",
    "    .show(5)"
   ]
  },
  {
   "cell_type": "markdown",
   "metadata": {},
   "source": [
    "# Gradient-boosted tree regression"
   ]
  },
  {
   "cell_type": "code",
   "execution_count": 26,
   "metadata": {},
   "outputs": [
    {
     "name": "stdout",
     "output_type": "stream",
     "text": [
      "RMSE:  0.0860804871353769\n",
      "R2: 0.9925292660110225\n",
      "GBTRegressionModel: uid=GBTRegressor_45c859c8d3ab, numTrees=10, numFeatures=7\n"
     ]
    }
   ],
   "source": [
    "# Train a GBT model.\n",
    "gbt = GBTRegressor(labelCol=\"ctr\", featuresCol=\"features\", maxIter=10)\n",
    "\n",
    "# Chain indexer and tree in a Pipeline\n",
    "pipeline = Pipeline(stages=[feature, gbt])\n",
    "\n",
    "# Train model.  This also runs the indexer.\n",
    "model_gbt = pipeline.fit(train)\n",
    "\n",
    "# Make predictions.\n",
    "predictions = model_gbt.transform(test)\n",
    "\n",
    "\n",
    "# Select (prediction, true label) and compute test error\n",
    "evaluator = RegressionEvaluator(\n",
    "    labelCol=\"ctr\", predictionCol=\"prediction\")\n",
    "\n",
    "rmse_gbt = evaluator.evaluate(predictions, {evaluator.metricName: \"rmse\"})\n",
    "r2_gbt = evaluator.evaluate(predictions, {evaluator.metricName: \"r2\"})\n",
    "print(\"RMSE: \", rmse_gbt)\n",
    "print(\"R2:\", r2_gbt)\n",
    "      \n",
    "\n",
    "print(model_gbt.stages[-1])  # summary only"
   ]
  },
  {
   "cell_type": "code",
   "execution_count": 27,
   "metadata": {},
   "outputs": [
    {
     "name": "stdout",
     "output_type": "stream",
     "text": [
      "+--------------------+-----------------+------------------+\n",
      "|            features|              ctr|        prediction|\n",
      "+--------------------+-----------------+------------------+\n",
      "|[2.0,11012.206814...| 0.50005065193925|1.8963457915257418|\n",
      "|[3.0,9923.6911252...|0.637132195277704|1.8963457915257418|\n",
      "|[4.0,10202.314099...|0.783706394973096|1.8963457915257418|\n",
      "|[10.0,10239.94318...| 1.01044552869544|1.8963457915257418|\n",
      "|[13.0,8373.525119...| 1.05570252090352| 2.660914265027981|\n",
      "+--------------------+-----------------+------------------+\n",
      "only showing top 5 rows\n",
      "\n"
     ]
    }
   ],
   "source": [
    "# Select example rows to display.\n",
    "\n",
    "model_gbt.transform(test)\\\n",
    "    .select(\"features\", \"ctr\", \"prediction\")\\\n",
    "    .show(5)"
   ]
  },
  {
   "cell_type": "markdown",
   "metadata": {},
   "source": [
    "# Results"
   ]
  },
  {
   "cell_type": "code",
   "execution_count": 30,
   "metadata": {},
   "outputs": [
    {
     "data": {
      "text/html": [
       "<div>\n",
       "<style scoped>\n",
       "    .dataframe tbody tr th:only-of-type {\n",
       "        vertical-align: middle;\n",
       "    }\n",
       "\n",
       "    .dataframe tbody tr th {\n",
       "        vertical-align: top;\n",
       "    }\n",
       "\n",
       "    .dataframe thead th {\n",
       "        text-align: right;\n",
       "    }\n",
       "</style>\n",
       "<table border=\"1\" class=\"dataframe\">\n",
       "  <thead>\n",
       "    <tr style=\"text-align: right;\">\n",
       "      <th></th>\n",
       "      <th>Название модели</th>\n",
       "      <th>RMSE</th>\n",
       "      <th>R2</th>\n",
       "    </tr>\n",
       "  </thead>\n",
       "  <tbody>\n",
       "    <tr>\n",
       "      <th>0</th>\n",
       "      <td>Decision tree regression</td>\n",
       "      <td>0.08670</td>\n",
       "      <td>0.992421</td>\n",
       "    </tr>\n",
       "    <tr>\n",
       "      <th>1</th>\n",
       "      <td>Random forest regression</td>\n",
       "      <td>0.13391</td>\n",
       "      <td>0.981921</td>\n",
       "    </tr>\n",
       "    <tr>\n",
       "      <th>2</th>\n",
       "      <td>Gradient-boosted tree regression</td>\n",
       "      <td>0.08608</td>\n",
       "      <td>0.992529</td>\n",
       "    </tr>\n",
       "  </tbody>\n",
       "</table>\n",
       "</div>"
      ],
      "text/plain": [
       "                    Название модели     RMSE        R2\n",
       "0          Decision tree regression  0.08670  0.992421\n",
       "1          Random forest regression  0.13391  0.981921\n",
       "2  Gradient-boosted tree regression  0.08608  0.992529"
      ]
     },
     "execution_count": 30,
     "metadata": {},
     "output_type": "execute_result"
    }
   ],
   "source": [
    "\n",
    "results = pd.DataFrame([['Decision tree regression', rmse_dt, r2_dt],\n",
    "                        ['Random forest regression', rmse_rf, r2_rf],\n",
    "                        ['Gradient-boosted tree regression', rmse_gbt, r2_gbt]], \n",
    "                       columns=['Название модели', 'RMSE', 'R2'])\n",
    "results"
   ]
  },
  {
   "cell_type": "code",
   "execution_count": 34,
   "metadata": {},
   "outputs": [],
   "source": [
    "gbt = GBTRegressor(labelCol=\"ctr\", featuresCol=\"features\", maxIter=20)\n",
    "\n",
    "# Chain indexer and tree in a Pipeline\n",
    "pipeline = Pipeline(stages=[feature, gbt])\n",
    "\n",
    "paramGrid = ParamGridBuilder()\\\n",
    "    .addGrid(rf.maxDepth, [2, 3, 4, 5, 6])\\\n",
    "    .addGrid(rf.numTrees, [3, 6, 8, 9, 10])\\\n",
    "    .build()\n",
    "\n",
    "\n",
    "# In this case the estimator is simply the linear regression.\n",
    "# A TrainValidationSplit requires an Estimator, a set of Estimator ParamMaps, and an Evaluator.\n",
    "tvs = TrainValidationSplit(estimator=pipeline,\n",
    "                           estimatorParamMaps=paramGrid,\n",
    "                           evaluator = RegressionEvaluator(labelCol=\"ctr\", predictionCol=\"prediction\"), seed=42)\n",
    "\n",
    "# Run TrainValidationSplit, and choose the best set of parameters.\n",
    "model_gbt_tvs = tvs.fit(train)"
   ]
  },
  {
   "cell_type": "code",
   "execution_count": 35,
   "metadata": {},
   "outputs": [
    {
     "name": "stdout",
     "output_type": "stream",
     "text": [
      "+--------------------+-----------------+------------------+\n",
      "|            features|              ctr|        prediction|\n",
      "+--------------------+-----------------+------------------+\n",
      "|[2.0,11012.206814...| 0.50005065193925|1.8953752934886685|\n",
      "|[3.0,9923.6911252...|0.637132195277704|1.8953752934886685|\n",
      "|[4.0,10202.314099...|0.783706394973096|1.9032662808268475|\n",
      "|[10.0,10239.94318...| 1.01044552869544|1.8953752934886685|\n",
      "|[13.0,8373.525119...| 1.05570252090352|2.6599437669909074|\n",
      "+--------------------+-----------------+------------------+\n",
      "only showing top 5 rows\n",
      "\n"
     ]
    }
   ],
   "source": [
    "model_gbt_tvs.transform(test)\\\n",
    "    .select(\"features\", \"ctr\", \"prediction\")\\\n",
    "    .show(5)"
   ]
  },
  {
   "cell_type": "code",
   "execution_count": 36,
   "metadata": {},
   "outputs": [
    {
     "name": "stdout",
     "output_type": "stream",
     "text": [
      "RMSE:  0.08539828950356324\n",
      "R2: 0.992647209623242\n"
     ]
    }
   ],
   "source": [
    "# Make predictions.\n",
    "predictions = model_gbt_tvs.transform(test)\n",
    "rmse_tvs_gbt = evaluator.evaluate(predictions, {evaluator.metricName: \"rmse\"})\n",
    "r2_tvs_gbt  = evaluator.evaluate(predictions, {evaluator.metricName: \"r2\"})\n",
    "print(\"RMSE: \", rmse_tvs_gbt)\n",
    "print(\"R2:\", r2_tvs_gbt)"
   ]
  },
  {
   "cell_type": "markdown",
   "metadata": {},
   "source": [
    "# Conclusion"
   ]
  },
  {
   "cell_type": "markdown",
   "metadata": {},
   "source": [
    "As we can see, after tuning the parameters the result gets better, so we can save our model"
   ]
  },
  {
   "cell_type": "code",
   "execution_count": 58,
   "metadata": {},
   "outputs": [],
   "source": [
    "# Save our best model\n",
    "\n",
    "model_gbt_tvs.write().save(MODEL_PATH)"
   ]
  },
  {
   "cell_type": "code",
   "execution_count": 60,
   "metadata": {},
   "outputs": [
    {
     "data": {
      "text/plain": [
       "pyspark.ml.tuning.TrainValidationSplitModel"
      ]
     },
     "execution_count": 60,
     "metadata": {},
     "output_type": "execute_result"
    }
   ],
   "source": [
    "type(model_gbt_tvs)"
   ]
  },
  {
   "cell_type": "code",
   "execution_count": null,
   "metadata": {},
   "outputs": [],
   "source": []
  }
 ],
 "metadata": {
  "kernelspec": {
   "display_name": "Python 3",
   "language": "python",
   "name": "python3"
  },
  "language_info": {
   "codemirror_mode": {
    "name": "ipython",
    "version": 3
   },
   "file_extension": ".py",
   "mimetype": "text/x-python",
   "name": "python",
   "nbconvert_exporter": "python",
   "pygments_lexer": "ipython3",
   "version": "3.9.1"
  }
 },
 "nbformat": 4,
 "nbformat_minor": 4
}
